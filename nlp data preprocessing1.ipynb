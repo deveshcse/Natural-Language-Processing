{
 "cells": [
  {
   "cell_type": "code",
   "execution_count": 1,
   "id": "7e887d12",
   "metadata": {},
   "outputs": [],
   "source": [
    "import pandas as pd"
   ]
  },
  {
   "cell_type": "code",
   "execution_count": 2,
   "id": "034819b6",
   "metadata": {},
   "outputs": [],
   "source": [
    "df = pd.read_csv('dataset/IMDB Dataset.csv')"
   ]
  },
  {
   "cell_type": "code",
   "execution_count": 3,
   "id": "aeef10ed",
   "metadata": {},
   "outputs": [
    {
     "data": {
      "text/html": [
       "<div>\n",
       "<style scoped>\n",
       "    .dataframe tbody tr th:only-of-type {\n",
       "        vertical-align: middle;\n",
       "    }\n",
       "\n",
       "    .dataframe tbody tr th {\n",
       "        vertical-align: top;\n",
       "    }\n",
       "\n",
       "    .dataframe thead th {\n",
       "        text-align: right;\n",
       "    }\n",
       "</style>\n",
       "<table border=\"1\" class=\"dataframe\">\n",
       "  <thead>\n",
       "    <tr style=\"text-align: right;\">\n",
       "      <th></th>\n",
       "      <th>review</th>\n",
       "      <th>sentiment</th>\n",
       "    </tr>\n",
       "  </thead>\n",
       "  <tbody>\n",
       "    <tr>\n",
       "      <th>0</th>\n",
       "      <td>One of the other reviewers has mentioned that ...</td>\n",
       "      <td>positive</td>\n",
       "    </tr>\n",
       "    <tr>\n",
       "      <th>1</th>\n",
       "      <td>A wonderful little production. &lt;br /&gt;&lt;br /&gt;The...</td>\n",
       "      <td>positive</td>\n",
       "    </tr>\n",
       "    <tr>\n",
       "      <th>2</th>\n",
       "      <td>I thought this was a wonderful way to spend ti...</td>\n",
       "      <td>positive</td>\n",
       "    </tr>\n",
       "    <tr>\n",
       "      <th>3</th>\n",
       "      <td>Basically there's a family where a little boy ...</td>\n",
       "      <td>negative</td>\n",
       "    </tr>\n",
       "    <tr>\n",
       "      <th>4</th>\n",
       "      <td>Petter Mattei's \"Love in the Time of Money\" is...</td>\n",
       "      <td>positive</td>\n",
       "    </tr>\n",
       "  </tbody>\n",
       "</table>\n",
       "</div>"
      ],
      "text/plain": [
       "                                              review sentiment\n",
       "0  One of the other reviewers has mentioned that ...  positive\n",
       "1  A wonderful little production. <br /><br />The...  positive\n",
       "2  I thought this was a wonderful way to spend ti...  positive\n",
       "3  Basically there's a family where a little boy ...  negative\n",
       "4  Petter Mattei's \"Love in the Time of Money\" is...  positive"
      ]
     },
     "execution_count": 3,
     "metadata": {},
     "output_type": "execute_result"
    }
   ],
   "source": [
    "df.head()"
   ]
  },
  {
   "cell_type": "code",
   "execution_count": 4,
   "id": "95ca996a",
   "metadata": {},
   "outputs": [
    {
     "data": {
      "text/plain": [
       "\"Basically there's a family where a little boy (Jake) thinks there's a zombie in his closet & his parents are fighting all the time.<br /><br />This movie is slower than a soap opera... and suddenly, Jake decides to become Rambo and kill the zombie.<br /><br />OK, first of all when you're going to make a film you must Decide if its a thriller or a drama! As a drama the movie is watchable. Parents are divorcing & arguing like in real life. And then we have Jake with his closet which totally ruins all the film! I expected to see a BOOGEYMAN similar movie, and instead i watched a drama with some meaningless thriller spots.<br /><br />3 out of 10 just for the well playing parents & descent dialogs. As for the shots with Jake: just ignore them.\""
      ]
     },
     "execution_count": 4,
     "metadata": {},
     "output_type": "execute_result"
    }
   ],
   "source": [
    "df['review'][3]"
   ]
  },
  {
   "cell_type": "code",
   "execution_count": 5,
   "id": "d012e436",
   "metadata": {},
   "outputs": [
    {
     "data": {
      "text/plain": [
       "\"basically there's a family where a little boy (jake) thinks there's a zombie in his closet & his parents are fighting all the time.<br /><br />this movie is slower than a soap opera... and suddenly, jake decides to become rambo and kill the zombie.<br /><br />ok, first of all when you're going to make a film you must decide if its a thriller or a drama! as a drama the movie is watchable. parents are divorcing & arguing like in real life. and then we have jake with his closet which totally ruins all the film! i expected to see a boogeyman similar movie, and instead i watched a drama with some meaningless thriller spots.<br /><br />3 out of 10 just for the well playing parents & descent dialogs. as for the shots with jake: just ignore them.\""
      ]
     },
     "execution_count": 5,
     "metadata": {},
     "output_type": "execute_result"
    }
   ],
   "source": [
    "df['review'][3].lower()"
   ]
  },
  {
   "cell_type": "code",
   "execution_count": 6,
   "id": "c8b08e73",
   "metadata": {},
   "outputs": [],
   "source": [
    "df['review'] = df['review'].str.lower()"
   ]
  },
  {
   "cell_type": "code",
   "execution_count": null,
   "id": "ee4175a8",
   "metadata": {},
   "outputs": [],
   "source": []
  },
  {
   "cell_type": "markdown",
   "id": "06b1aded",
   "metadata": {},
   "source": [
    "# remove html tags"
   ]
  },
  {
   "cell_type": "code",
   "execution_count": 7,
   "id": "5d5c1288",
   "metadata": {},
   "outputs": [],
   "source": [
    "import re\n",
    "def remove_html_tags(text):\n",
    "    pattern = re.compile('<.*?>')\n",
    "    return pattern.sub(r' ', text)"
   ]
  },
  {
   "cell_type": "code",
   "execution_count": 8,
   "id": "e363d3ed",
   "metadata": {},
   "outputs": [],
   "source": [
    "df['review'] = df['review'].apply(remove_html_tags)"
   ]
  },
  {
   "cell_type": "markdown",
   "id": "c762d9e4",
   "metadata": {},
   "source": [
    "# remove punctuation"
   ]
  },
  {
   "cell_type": "code",
   "execution_count": 9,
   "id": "56cbc042",
   "metadata": {},
   "outputs": [],
   "source": [
    "import string"
   ]
  },
  {
   "cell_type": "code",
   "execution_count": 10,
   "id": "25e5419e",
   "metadata": {},
   "outputs": [
    {
     "data": {
      "text/plain": [
       "'!\"#$%&\\'()*+,-./:;<=>?@[\\\\]^_`{|}~'"
      ]
     },
     "execution_count": 10,
     "metadata": {},
     "output_type": "execute_result"
    }
   ],
   "source": [
    "string.punctuation"
   ]
  },
  {
   "cell_type": "code",
   "execution_count": 11,
   "id": "7de51a53",
   "metadata": {},
   "outputs": [],
   "source": [
    "exclude = string.punctuation"
   ]
  },
  {
   "cell_type": "code",
   "execution_count": 12,
   "id": "49a8bad1",
   "metadata": {},
   "outputs": [],
   "source": [
    "# inefficient way to remove punctuation\n",
    "def remove_punct(text):\n",
    "    for char in exclude:\n",
    "        text = text.replace(char, '')\n",
    "    return text\n"
   ]
  },
  {
   "cell_type": "code",
   "execution_count": 13,
   "id": "3932c12a",
   "metadata": {},
   "outputs": [
    {
     "name": "stdout",
     "output_type": "stream",
     "text": [
      "string with punctuation\n"
     ]
    }
   ],
   "source": [
    "text = \"string. with. punctuation.?\"\n",
    "print(remove_punct(text))"
   ]
  },
  {
   "cell_type": "code",
   "execution_count": 14,
   "id": "12205fe2",
   "metadata": {},
   "outputs": [],
   "source": [
    "# efficient way to remove punctuation\n",
    "def remove_punct1(text):\n",
    "    return text.translate(str.maketrans('', '', exclude))"
   ]
  },
  {
   "cell_type": "code",
   "execution_count": 15,
   "id": "57e3d190",
   "metadata": {},
   "outputs": [
    {
     "name": "stdout",
     "output_type": "stream",
     "text": [
      "string with punctuation\n"
     ]
    }
   ],
   "source": [
    "print(remove_punct1(text))"
   ]
  },
  {
   "cell_type": "markdown",
   "id": "a5afabd7",
   "metadata": {},
   "source": [
    "# Chat word treatment"
   ]
  },
  {
   "cell_type": "code",
   "execution_count": 16,
   "id": "bd5c622e",
   "metadata": {},
   "outputs": [],
   "source": [
    "chat_words = {\n",
    "    'AFAIK': 'As Far As I Know',\n",
    "    'AFK': 'Away From Keyboard',\n",
    "    'ASAP': 'As Soon As Possible',\n",
    "    'ATK': 'At The Keyboard',\n",
    "    'ATM': 'At The Moment',\n",
    "    'A3': 'Anytime, Anywhere, Anyplace',\n",
    "    'BAK': 'Back At Keyboard',\n",
    "    'BBL': 'Be Back Later',\n",
    "    'BBS': 'Be Back Soon',\n",
    "    'BFN': 'Bye For Now',\n",
    "    'B4N': 'Bye For Now',\n",
    "    'BRB': 'Be Right Back',\n",
    "    'BRT': 'Be Right There',\n",
    "    'BTW': 'By The Way',\n",
    "    'B4': 'Before',\n",
    "    'CU': 'See You',\n",
    "    'CUL8R': 'See You Later',\n",
    "    'CYA': 'See You',\n",
    "    'FAQ': 'Frequently Asked Questions',\n",
    "    'FC': 'Fingers Crossed',\n",
    "    'FWIW': 'For What It\\'s Worth',\n",
    "    'FYI': 'For Your Information',\n",
    "    'GAL': 'Get A Life',\n",
    "    'GG': 'Good Game',\n",
    "    'GN': 'Good Night',\n",
    "    'GMTA': 'Great Minds Think Alike',\n",
    "    'GR8': 'Great!',\n",
    "    'G9': 'Genius',\n",
    "    'IC': 'I See',\n",
    "    'ICQ': 'I Seek you (also a chat program)',\n",
    "    'ILU': 'I Love You',\n",
    "    'IMHO': 'In My Honest/Humble Opinion',\n",
    "    'IMO': 'In My Opinion',\n",
    "    'IOW': 'In Other Words',\n",
    "    'IRL': 'In Real Life',\n",
    "    'KISS': 'Keep It Simple, Stupid',\n",
    "    'LDR': 'Long Distance Relationship',\n",
    "    'LMAO': 'Laugh My A.. Off',\n",
    "    'LOL': 'Laughing Out Loud',\n",
    "    'LTNS': 'Long Time No See',\n",
    "    'L8R': 'Later',\n",
    "    'MTE': 'My Thoughts Exactly',\n",
    "    'M8': 'Mate',\n",
    "    'NRN': 'No Reply Necessary',\n",
    "    'OIC': 'Oh I See',\n",
    "    'PITA': 'Pain In The A..',\n",
    "    'PRT': 'Party',\n",
    "    'PRW': 'Parents Are Watching',\n",
    "    'QPSA?': 'Que Pasa?',\n",
    "    'ROFL': 'Rolling On The Floor Laughing',\n",
    "    'ROFLOL': 'Rolling On The Floor Laughing Out Loud',\n",
    "    'ROTFLMAO': 'Rolling On The Floor Laughing My A.. Off',\n",
    "    'SK8': 'Skate',\n",
    "    'STATS': 'Your sex and age',\n",
    "    'ASL': 'Age, Sex, Location',\n",
    "    'THX': 'Thank You',\n",
    "    'TTFN': 'Ta-Ta For Now!',\n",
    "    'TTYL': 'Talk To You Later',\n",
    "    'U': 'You',\n",
    "    'U2': 'You Too',\n",
    "    'U4E': 'Yours For Ever',\n",
    "    'WB': 'Welcome Back',\n",
    "    'WTF': 'What The F...',\n",
    "    'WTG': 'Way To Go!',\n",
    "    'WUF': 'Where Are You From?',\n",
    "    'W8': 'Wait...',\n",
    "    '7K': 'Sick:-D Laugher',\n",
    "    'TFW': 'That feeling when',\n",
    "    'MFW': 'My face when',\n",
    "    'MRW': 'My reaction when',\n",
    "    'IFYP': 'I feel your pain',\n",
    "    'LOL': 'Laughing out loud',\n",
    "    'TNTL': 'Trying not to laugh',\n",
    "    'JK': 'Just kidding',\n",
    "    'IDC': 'I don’t care',\n",
    "    'ILY': 'I love you',\n",
    "    'IMU': 'I miss you',\n",
    "    'ADIH': 'Another day in hell',\n",
    "    'IDC': 'I don’t care',\n",
    "    'ZZZ': 'Sleeping, bored, tired',\n",
    "    'WYWH': 'Wish you were here',\n",
    "    'TIME': 'Tears in my eyes',\n",
    "    'BAE': 'Before anyone else',\n",
    "    'FIMH': 'Forever in my heart',\n",
    "    'BSAAW': 'Big smile and a wink',\n",
    "    'BWL': 'Bursting with laughter',\n",
    "    'LMAO': 'Laughing my a** off',\n",
    "    'BFF': 'Best friends forever',\n",
    "    'CSL': 'Can’t stop laughing'\n",
    "}\n"
   ]
  },
  {
   "cell_type": "code",
   "execution_count": 17,
   "id": "4fb6a7ed",
   "metadata": {},
   "outputs": [],
   "source": [
    "def chat_conversion(text):\n",
    "    new_text = []\n",
    "    for w in text.split():\n",
    "        if w.upper() in chat_words:\n",
    "            new_text.append(chat_words[w.upper()])\n",
    "        else:\n",
    "            new_text.append(w)\n",
    "    return \" \".join(new_text)\n",
    "        "
   ]
  },
  {
   "cell_type": "code",
   "execution_count": 18,
   "id": "c03da876",
   "metadata": {},
   "outputs": [
    {
     "data": {
      "text/plain": [
       "'In My Honest/Humble Opinion he is the best'"
      ]
     },
     "execution_count": 18,
     "metadata": {},
     "output_type": "execute_result"
    }
   ],
   "source": [
    "chat_conversion('IMHO he is the best')"
   ]
  },
  {
   "cell_type": "markdown",
   "id": "b9ab18a0",
   "metadata": {},
   "source": [
    "# spelling correction"
   ]
  },
  {
   "cell_type": "code",
   "execution_count": null,
   "id": "8b164b28",
   "metadata": {},
   "outputs": [],
   "source": []
  },
  {
   "cell_type": "code",
   "execution_count": null,
   "id": "90bcb5c8",
   "metadata": {},
   "outputs": [],
   "source": []
  },
  {
   "cell_type": "code",
   "execution_count": null,
   "id": "c9f70026",
   "metadata": {},
   "outputs": [],
   "source": []
  },
  {
   "cell_type": "markdown",
   "id": "4ca018ad",
   "metadata": {},
   "source": [
    "# remove stop words"
   ]
  },
  {
   "cell_type": "markdown",
   "id": "b44fa71b",
   "metadata": {},
   "source": []
  },
  {
   "cell_type": "code",
   "execution_count": null,
   "id": "bdab07ce",
   "metadata": {},
   "outputs": [],
   "source": []
  },
  {
   "cell_type": "code",
   "execution_count": null,
   "id": "eebc79df",
   "metadata": {},
   "outputs": [],
   "source": []
  },
  {
   "cell_type": "code",
   "execution_count": null,
   "id": "dc13e2f4",
   "metadata": {},
   "outputs": [],
   "source": []
  },
  {
   "cell_type": "code",
   "execution_count": null,
   "id": "b3e4db31",
   "metadata": {},
   "outputs": [],
   "source": []
  },
  {
   "cell_type": "markdown",
   "id": "96dc8bae",
   "metadata": {},
   "source": [
    "# handling emojis\n"
   ]
  },
  {
   "cell_type": "markdown",
   "id": "f66bcb5c",
   "metadata": {},
   "source": []
  },
  {
   "cell_type": "code",
   "execution_count": null,
   "id": "6334a3b2",
   "metadata": {},
   "outputs": [],
   "source": []
  },
  {
   "cell_type": "code",
   "execution_count": null,
   "id": "371be291",
   "metadata": {},
   "outputs": [],
   "source": []
  },
  {
   "cell_type": "code",
   "execution_count": null,
   "id": "f4f65577",
   "metadata": {},
   "outputs": [],
   "source": []
  },
  {
   "cell_type": "markdown",
   "id": "05a8aa2f",
   "metadata": {},
   "source": [
    "# Tokanization"
   ]
  },
  {
   "cell_type": "code",
   "execution_count": 32,
   "id": "3194ee02",
   "metadata": {},
   "outputs": [],
   "source": [
    "import nltk\n",
    "from nltk.tokenize  import word_tokenize, sent_tokenize"
   ]
  },
  {
   "cell_type": "code",
   "execution_count": 40,
   "id": "c8f751b3",
   "metadata": {},
   "outputs": [],
   "source": [
    "sent1 = \"I am going to visit delhi\"\n",
    "sent2 = \"we are here to help! Mail us at nks@gmail.com\""
   ]
  },
  {
   "cell_type": "code",
   "execution_count": 41,
   "id": "d4b3a9d5",
   "metadata": {},
   "outputs": [
    {
     "data": {
      "text/plain": [
       "['I', 'am', 'going', 'to', 'visit', 'delhi']"
      ]
     },
     "execution_count": 41,
     "metadata": {},
     "output_type": "execute_result"
    }
   ],
   "source": [
    "word_tokenize(sent1)"
   ]
  },
  {
   "cell_type": "code",
   "execution_count": 39,
   "id": "d73ecf63",
   "metadata": {},
   "outputs": [
    {
     "data": {
      "text/plain": [
       "['we are here to help.', 'Mail us at nks@gmail.com']"
      ]
     },
     "execution_count": 39,
     "metadata": {},
     "output_type": "execute_result"
    }
   ],
   "source": [
    "sent_tokenize(sent2)"
   ]
  },
  {
   "cell_type": "code",
   "execution_count": 42,
   "id": "705b78f1",
   "metadata": {},
   "outputs": [
    {
     "data": {
      "text/plain": [
       "[\"basically there's a family where a little boy (jake) thinks there's a zombie in his closet & his parents are fighting all the time.\",\n",
       " 'this movie is slower than a soap opera... and suddenly, jake decides to become rambo and kill the zombie.',\n",
       " \"ok, first of all when you're going to make a film you must decide if its a thriller or a drama!\",\n",
       " 'as a drama the movie is watchable.',\n",
       " 'parents are divorcing & arguing like in real life.',\n",
       " 'and then we have jake with his closet which totally ruins all the film!',\n",
       " 'i expected to see a boogeyman similar movie, and instead i watched a drama with some meaningless thriller spots.',\n",
       " '3 out of 10 just for the well playing parents & descent dialogs.',\n",
       " 'as for the shots with jake: just ignore them.']"
      ]
     },
     "execution_count": 42,
     "metadata": {},
     "output_type": "execute_result"
    }
   ],
   "source": [
    "sent_tokenize(df['review'][3])"
   ]
  },
  {
   "cell_type": "code",
   "execution_count": 43,
   "id": "fc6f335e",
   "metadata": {},
   "outputs": [
    {
     "data": {
      "text/plain": [
       "['basically',\n",
       " 'there',\n",
       " \"'s\",\n",
       " 'a',\n",
       " 'family',\n",
       " 'where',\n",
       " 'a',\n",
       " 'little',\n",
       " 'boy',\n",
       " '(',\n",
       " 'jake',\n",
       " ')',\n",
       " 'thinks',\n",
       " 'there',\n",
       " \"'s\",\n",
       " 'a',\n",
       " 'zombie',\n",
       " 'in',\n",
       " 'his',\n",
       " 'closet',\n",
       " '&',\n",
       " 'his',\n",
       " 'parents',\n",
       " 'are',\n",
       " 'fighting',\n",
       " 'all',\n",
       " 'the',\n",
       " 'time',\n",
       " '.',\n",
       " 'this',\n",
       " 'movie',\n",
       " 'is',\n",
       " 'slower',\n",
       " 'than',\n",
       " 'a',\n",
       " 'soap',\n",
       " 'opera',\n",
       " '...',\n",
       " 'and',\n",
       " 'suddenly',\n",
       " ',',\n",
       " 'jake',\n",
       " 'decides',\n",
       " 'to',\n",
       " 'become',\n",
       " 'rambo',\n",
       " 'and',\n",
       " 'kill',\n",
       " 'the',\n",
       " 'zombie',\n",
       " '.',\n",
       " 'ok',\n",
       " ',',\n",
       " 'first',\n",
       " 'of',\n",
       " 'all',\n",
       " 'when',\n",
       " 'you',\n",
       " \"'re\",\n",
       " 'going',\n",
       " 'to',\n",
       " 'make',\n",
       " 'a',\n",
       " 'film',\n",
       " 'you',\n",
       " 'must',\n",
       " 'decide',\n",
       " 'if',\n",
       " 'its',\n",
       " 'a',\n",
       " 'thriller',\n",
       " 'or',\n",
       " 'a',\n",
       " 'drama',\n",
       " '!',\n",
       " 'as',\n",
       " 'a',\n",
       " 'drama',\n",
       " 'the',\n",
       " 'movie',\n",
       " 'is',\n",
       " 'watchable',\n",
       " '.',\n",
       " 'parents',\n",
       " 'are',\n",
       " 'divorcing',\n",
       " '&',\n",
       " 'arguing',\n",
       " 'like',\n",
       " 'in',\n",
       " 'real',\n",
       " 'life',\n",
       " '.',\n",
       " 'and',\n",
       " 'then',\n",
       " 'we',\n",
       " 'have',\n",
       " 'jake',\n",
       " 'with',\n",
       " 'his',\n",
       " 'closet',\n",
       " 'which',\n",
       " 'totally',\n",
       " 'ruins',\n",
       " 'all',\n",
       " 'the',\n",
       " 'film',\n",
       " '!',\n",
       " 'i',\n",
       " 'expected',\n",
       " 'to',\n",
       " 'see',\n",
       " 'a',\n",
       " 'boogeyman',\n",
       " 'similar',\n",
       " 'movie',\n",
       " ',',\n",
       " 'and',\n",
       " 'instead',\n",
       " 'i',\n",
       " 'watched',\n",
       " 'a',\n",
       " 'drama',\n",
       " 'with',\n",
       " 'some',\n",
       " 'meaningless',\n",
       " 'thriller',\n",
       " 'spots',\n",
       " '.',\n",
       " '3',\n",
       " 'out',\n",
       " 'of',\n",
       " '10',\n",
       " 'just',\n",
       " 'for',\n",
       " 'the',\n",
       " 'well',\n",
       " 'playing',\n",
       " 'parents',\n",
       " '&',\n",
       " 'descent',\n",
       " 'dialogs',\n",
       " '.',\n",
       " 'as',\n",
       " 'for',\n",
       " 'the',\n",
       " 'shots',\n",
       " 'with',\n",
       " 'jake',\n",
       " ':',\n",
       " 'just',\n",
       " 'ignore',\n",
       " 'them',\n",
       " '.']"
      ]
     },
     "execution_count": 43,
     "metadata": {},
     "output_type": "execute_result"
    }
   ],
   "source": [
    "word_tokenize(df['review'][3])"
   ]
  },
  {
   "cell_type": "markdown",
   "id": "0645c612",
   "metadata": {},
   "source": [
    "# Stemming"
   ]
  },
  {
   "cell_type": "code",
   "execution_count": 44,
   "id": "df31d4ee",
   "metadata": {},
   "outputs": [],
   "source": [
    "from nltk.stem.porter import PorterStemmer"
   ]
  },
  {
   "cell_type": "code",
   "execution_count": 45,
   "id": "ce7aa998",
   "metadata": {},
   "outputs": [],
   "source": [
    "ps = PorterStemmer()"
   ]
  },
  {
   "cell_type": "code",
   "execution_count": 57,
   "id": "ce3c6364",
   "metadata": {},
   "outputs": [],
   "source": [
    "def stem_words(text):\n",
    "    return \" \".join(ps.stem(word) for word in text.split())"
   ]
  },
  {
   "cell_type": "code",
   "execution_count": 58,
   "id": "f3f3df6f",
   "metadata": {},
   "outputs": [
    {
     "data": {
      "text/plain": [
       "\"basic there' a famili where a littl boy (jake) think there' a zombi in hi closet & hi parent are fight all the time. thi movi is slower than a soap opera... and suddenly, jake decid to becom rambo and kill the zombie. ok, first of all when you'r go to make a film you must decid if it a thriller or a drama! as a drama the movi is watchable. parent are divorc & argu like in real life. and then we have jake with hi closet which total ruin all the film! i expect to see a boogeyman similar movie, and instead i watch a drama with some meaningless thriller spots. 3 out of 10 just for the well play parent & descent dialogs. as for the shot with jake: just ignor them.\""
      ]
     },
     "execution_count": 58,
     "metadata": {},
     "output_type": "execute_result"
    }
   ],
   "source": [
    "stem_words(df['review'][3])"
   ]
  },
  {
   "cell_type": "markdown",
   "id": "8712b08a",
   "metadata": {},
   "source": [
    "# Lemmatization"
   ]
  },
  {
   "cell_type": "code",
   "execution_count": 73,
   "id": "059f8ee7",
   "metadata": {},
   "outputs": [],
   "source": [
    "from nltk.stem import WordNetLemmatizer"
   ]
  },
  {
   "cell_type": "code",
   "execution_count": 66,
   "id": "f31e19fa",
   "metadata": {},
   "outputs": [],
   "source": [
    "wordnet = WordNetLemmatizer()"
   ]
  },
  {
   "cell_type": "code",
   "execution_count": 74,
   "id": "3682333c",
   "metadata": {},
   "outputs": [],
   "source": [
    "def lemmatized_words(text):\n",
    "    sentence_words = word_tokenize(sentence)\n",
    "    return \" \".join(wordnet.lemmatize(word) for word in sentence_words)"
   ]
  },
  {
   "cell_type": "code",
   "execution_count": 76,
   "id": "7da109df",
   "metadata": {},
   "outputs": [
    {
     "data": {
      "text/plain": [
       "\"basically there 's a family where a little boy ( jake ) think there 's a zombie in his closet & his parent are fighting all the time . this movie is slower than a soap opera ... and suddenly , jake decides to become rambo and kill the zombie . ok , first of all when you 're going to make a film you must decide if it a thriller or a drama ! a a drama the movie is watchable . parent are divorcing & arguing like in real life . and then we have jake with his closet which totally ruin all the film ! i expected to see a boogeyman similar movie , and instead i watched a drama with some meaningless thriller spot . 3 out of 10 just for the well playing parent & descent dialog . a for the shot with jake : just ignore them .\""
      ]
     },
     "execution_count": 76,
     "metadata": {},
     "output_type": "execute_result"
    }
   ],
   "source": [
    "sentence = df['review'][3]\n",
    "lemmatized_words(sentence)"
   ]
  },
  {
   "cell_type": "code",
   "execution_count": null,
   "id": "2fb0fcd7",
   "metadata": {},
   "outputs": [],
   "source": []
  }
 ],
 "metadata": {
  "kernelspec": {
   "display_name": "Python 3 (ipykernel)",
   "language": "python",
   "name": "python3"
  },
  "language_info": {
   "codemirror_mode": {
    "name": "ipython",
    "version": 3
   },
   "file_extension": ".py",
   "mimetype": "text/x-python",
   "name": "python",
   "nbconvert_exporter": "python",
   "pygments_lexer": "ipython3",
   "version": "3.11.4"
  }
 },
 "nbformat": 4,
 "nbformat_minor": 5
}
